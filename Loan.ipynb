{
 "cells": [
  {
   "cell_type": "markdown",
   "metadata": {},
   "source": [
    "## Loan Data\n",
    "\n",
    "**Recap Overview**\n",
    "\n",
    "This data set includes customers who have paid off their loans, who have been past due and put into collection without paying back their loan and interests, and who have paid off only after they were put in collection. The financial product is a bullet loan that customers should pay off all of their loan debt in just one time by the end of the term, instead of an installment schedule. Of course, they could pay off earlier than their pay schedule.\n",
    "\n",
    "**Notebook objective**\n",
    "\n",
    "This notebook will provide the initial analysis and EDA finding. I will probably add some other parts, including ML, to this notebook later."
   ]
  },
  {
   "cell_type": "code",
   "execution_count": 1,
   "metadata": {},
   "outputs": [
    {
     "name": "stderr",
     "output_type": "stream",
     "text": [
      "C:\\Users\\Kamran\\Anaconda3\\lib\\importlib\\_bootstrap.py:219: RuntimeWarning: numpy.ufunc size changed, may indicate binary incompatibility. Expected 192 from C header, got 216 from PyObject\n",
      "  return f(*args, **kwds)\n",
      "C:\\Users\\Kamran\\Anaconda3\\lib\\importlib\\_bootstrap.py:219: RuntimeWarning: numpy.ufunc size changed, may indicate binary incompatibility. Expected 192 from C header, got 216 from PyObject\n",
      "  return f(*args, **kwds)\n",
      "C:\\Users\\Kamran\\Anaconda3\\lib\\importlib\\_bootstrap.py:219: RuntimeWarning: numpy.ufunc size changed, may indicate binary incompatibility. Expected 192 from C header, got 216 from PyObject\n",
      "  return f(*args, **kwds)\n",
      "C:\\Users\\Kamran\\Anaconda3\\lib\\importlib\\_bootstrap.py:219: RuntimeWarning: numpy.ufunc size changed, may indicate binary incompatibility. Expected 192 from C header, got 216 from PyObject\n",
      "  return f(*args, **kwds)\n"
     ]
    }
   ],
   "source": [
    "import pandas as pd\n",
    "import numpy as np\n",
    "import matplotlib.pyplot as plt\n",
    "import seaborn as sns\n",
    "from datetime import datetime\n",
    "%matplotlib inline\n"
   ]
  },
  {
   "cell_type": "code",
   "execution_count": 2,
   "metadata": {},
   "outputs": [],
   "source": [
    "def now():\n",
    "    tm = datetime.now().strftime('%Y-%m-%d  %H:%M:%S')\n",
    "    return tm\n",
    "\n",
    "def read_CSV_file(df):\n",
    "    data_file = pd.read_csv(df)\n",
    "    print('{} Reading.. {}'.format(now(),df))\n",
    "    print('{} the data contains {} observations and {} features'.format(now(),data_file.shape[0],data_file.shape[1]))\n",
    "    return data_file\n",
    "    \n",
    "def for_NaN_value(df):\n",
    "    try:\n",
    "        if (isinstance(df,pd.DataFrame)):\n",
    "            df_na =pd.concat([df.isnull().any(),df.isnull().sum(),(df.isnull().sum()*100)/df.shape[0]],\n",
    "                             axis=1, keys=['NaN features','total NaN value','percentage of missing value'])\n",
    "            df_na = df_na.loc[df_na['NaN features']== True ]\n",
    "            return df_na\n",
    "        else:\n",
    "            print('{}: data is in different format'.format(now()))\n",
    "    \n",
    "    except (RuntimeError,UnboundLocalError):\n",
    "        print('{} something is wrong'.format(now()))\n",
    "        "
   ]
  },
  {
   "cell_type": "code",
   "execution_count": 11,
   "metadata": {},
   "outputs": [
    {
     "name": "stdout",
     "output_type": "stream",
     "text": [
      "2020-03-01  18:46:53 Reading.. C:\\Users\\Kamran\\Downloads\\loandata\\Loan.csv\n",
      "2020-03-01  18:46:53 the data contains 500 observations and 11 features\n",
      "\n",
      "\n",
      "\n",
      "               NaN features  total NaN value  percentage of missing value\n",
      "paid_off_time          True              100                         20.0\n",
      "past_due_days          True              300                         60.0\n"
     ]
    }
   ],
   "source": [
    "data = read_CSV_file('C:\\\\Users\\\\Kamran\\\\Downloads\\\\loandata\\\\Loan.csv')\n",
    "print('\\n\\n')\n",
    "print(for_NaN_value(data))"
   ]
  },
  {
   "cell_type": "code",
   "execution_count": 3,
   "metadata": {},
   "outputs": [
    {
     "name": "stdout",
     "output_type": "stream",
     "text": [
      "2020-03-01  18:29:48 Reading.. C:\\Users\\Kamran\\Downloads\\loandata\\Loan.csv\n",
      "2020-03-01  18:29:48 the data contains 500 observations and 11 features\n",
      "\n",
      "\n",
      "\n",
      "               NaN features  total NaN value  percentage of missing value\n",
      "paid_off_time          True              100                         20.0\n",
      "past_due_days          True              300                         60.0\n"
     ]
    }
   ],
   "source": [
    "#use_cols = ['Loan_ID','laon_status','Principal','terms','effective_date','due_date',\n",
    "#            'paid_off_time','past_due_days','age','education','Gender']\n",
    "\n",
    "#data = pd.read_csv('C:\\\\Users\\\\Kamran\\\\Downloads\\\\loandata\\\\Loan.csv')\n",
    "\n",
    "\n",
    "data = read_CSV_file('C:\\\\Users\\\\Kamran\\\\Downloads\\\\loandata\\\\Loan.csv')\n",
    "print('\\n\\n')\n",
    "print(for_NaN_value(data))"
   ]
  },
  {
   "cell_type": "markdown",
   "metadata": {},
   "source": [
    "***Looking from above information, there are some missing data in 2 fields.***\n",
    "\n",
    "### Data Content\n",
    "\n",
    "- ***Loan_id*** : A unique loan number assigned to each loan customers\n",
    "- ***Loan_status*** : Whether a loan is paid off, in collection, new customer yet to payoff, or paid off after the collection efforts\n",
    "- ***Principal*** : Basic principal loan amount at the origination\n",
    "- ***terms*** : Can be weekly (7 days), biweekly, and monthly payoff schedule\n",
    "- ***Effective_date*** : When the loan got originated and took effects\n",
    "- ***Due_date*** : Since it’s one-time payoff schedule, each loan has one single due date\n",
    "- ***Paidoff_time*** : The actual time a customer pays off the loan\n",
    "- ***Pastdue_days*** : How many days a loan has been past due\n",
    "- ***Age, education, gender*** : A customer’s basic demographic information\n",
    "\n",
    "Let's look at some sample data."
   ]
  },
  {
   "cell_type": "code",
   "execution_count": 4,
   "metadata": {},
   "outputs": [
    {
     "data": {
      "text/html": [
       "<div>\n",
       "<style scoped>\n",
       "    .dataframe tbody tr th:only-of-type {\n",
       "        vertical-align: middle;\n",
       "    }\n",
       "\n",
       "    .dataframe tbody tr th {\n",
       "        vertical-align: top;\n",
       "    }\n",
       "\n",
       "    .dataframe thead th {\n",
       "        text-align: right;\n",
       "    }\n",
       "</style>\n",
       "<table border=\"1\" class=\"dataframe\">\n",
       "  <thead>\n",
       "    <tr style=\"text-align: right;\">\n",
       "      <th></th>\n",
       "      <th>Loan_ID</th>\n",
       "      <th>loan_status</th>\n",
       "      <th>Principal</th>\n",
       "      <th>terms</th>\n",
       "      <th>effective_date</th>\n",
       "      <th>due_date</th>\n",
       "      <th>paid_off_time</th>\n",
       "      <th>past_due_days</th>\n",
       "      <th>age</th>\n",
       "      <th>education</th>\n",
       "      <th>Gender</th>\n",
       "    </tr>\n",
       "  </thead>\n",
       "  <tbody>\n",
       "    <tr>\n",
       "      <th>0</th>\n",
       "      <td>xqd20166231</td>\n",
       "      <td>PAIDOFF</td>\n",
       "      <td>1000</td>\n",
       "      <td>30</td>\n",
       "      <td>9/8/2016</td>\n",
       "      <td>10/7/2016</td>\n",
       "      <td>9/14/2016 19:31</td>\n",
       "      <td>NaN</td>\n",
       "      <td>45</td>\n",
       "      <td>High School or Below</td>\n",
       "      <td>male</td>\n",
       "    </tr>\n",
       "    <tr>\n",
       "      <th>1</th>\n",
       "      <td>xqd20168902</td>\n",
       "      <td>PAIDOFF</td>\n",
       "      <td>1000</td>\n",
       "      <td>30</td>\n",
       "      <td>9/8/2016</td>\n",
       "      <td>10/7/2016</td>\n",
       "      <td>10/7/2016 9:00</td>\n",
       "      <td>NaN</td>\n",
       "      <td>50</td>\n",
       "      <td>Bechalor</td>\n",
       "      <td>female</td>\n",
       "    </tr>\n",
       "    <tr>\n",
       "      <th>2</th>\n",
       "      <td>xqd20160003</td>\n",
       "      <td>PAIDOFF</td>\n",
       "      <td>1000</td>\n",
       "      <td>30</td>\n",
       "      <td>9/8/2016</td>\n",
       "      <td>10/7/2016</td>\n",
       "      <td>9/25/2016 16:58</td>\n",
       "      <td>NaN</td>\n",
       "      <td>33</td>\n",
       "      <td>Bechalor</td>\n",
       "      <td>female</td>\n",
       "    </tr>\n",
       "    <tr>\n",
       "      <th>3</th>\n",
       "      <td>xqd20160004</td>\n",
       "      <td>PAIDOFF</td>\n",
       "      <td>1000</td>\n",
       "      <td>15</td>\n",
       "      <td>9/8/2016</td>\n",
       "      <td>9/22/2016</td>\n",
       "      <td>9/22/2016 20:00</td>\n",
       "      <td>NaN</td>\n",
       "      <td>27</td>\n",
       "      <td>college</td>\n",
       "      <td>male</td>\n",
       "    </tr>\n",
       "    <tr>\n",
       "      <th>4</th>\n",
       "      <td>xqd20160005</td>\n",
       "      <td>PAIDOFF</td>\n",
       "      <td>1000</td>\n",
       "      <td>30</td>\n",
       "      <td>9/9/2016</td>\n",
       "      <td>10/8/2016</td>\n",
       "      <td>9/23/2016 21:36</td>\n",
       "      <td>NaN</td>\n",
       "      <td>28</td>\n",
       "      <td>college</td>\n",
       "      <td>female</td>\n",
       "    </tr>\n",
       "  </tbody>\n",
       "</table>\n",
       "</div>"
      ],
      "text/plain": [
       "       Loan_ID loan_status  Principal  terms effective_date   due_date  \\\n",
       "0  xqd20166231     PAIDOFF       1000     30       9/8/2016  10/7/2016   \n",
       "1  xqd20168902     PAIDOFF       1000     30       9/8/2016  10/7/2016   \n",
       "2  xqd20160003     PAIDOFF       1000     30       9/8/2016  10/7/2016   \n",
       "3  xqd20160004     PAIDOFF       1000     15       9/8/2016  9/22/2016   \n",
       "4  xqd20160005     PAIDOFF       1000     30       9/9/2016  10/8/2016   \n",
       "\n",
       "     paid_off_time  past_due_days  age             education  Gender  \n",
       "0  9/14/2016 19:31            NaN   45  High School or Below    male  \n",
       "1   10/7/2016 9:00            NaN   50              Bechalor  female  \n",
       "2  9/25/2016 16:58            NaN   33              Bechalor  female  \n",
       "3  9/22/2016 20:00            NaN   27               college    male  \n",
       "4  9/23/2016 21:36            NaN   28               college  female  "
      ]
     },
     "execution_count": 4,
     "metadata": {},
     "output_type": "execute_result"
    }
   ],
   "source": [
    "data.head(5)"
   ]
  },
  {
   "cell_type": "code",
   "execution_count": 5,
   "metadata": {},
   "outputs": [],
   "source": [
    "#data.info()\n",
    "#data.describe()"
   ]
  },
  {
   "cell_type": "markdown",
   "metadata": {},
   "source": [
    "OK from the sample, we can see that it's making senses for those who have **paid the loan** not to have data in **past_due_days** columns.\n",
    "\n",
    "\n",
    "### 1. EDA\n",
    "\n",
    "In this section, let's explore the data in-depth.\n",
    "\n",
    "#### 1. Loan_ID - This is just the identifier for each loan by each customers, we can ignore this field and will drop it at the end of EDA process\n",
    "\n",
    "##### 2. loan_status\n",
    "This field is actually the target variables we are trying to predict. Let's look at the LoV within the column and the sizing."
   ]
  },
  {
   "cell_type": "code",
   "execution_count": 117,
   "metadata": {},
   "outputs": [
    {
     "name": "stdout",
     "output_type": "stream",
     "text": [
      "['PAIDOFF' 'COLLECTION' 'COLLECTION_PAIDOFF']\n"
     ]
    },
    {
     "data": {
      "image/png": "[encoded data removed]",
      "text/plain": [
       "<Figure size 432x288 with 1 Axes>"
      ]
     },
     "metadata": {
      "needs_background": "light"
     },
     "output_type": "display_data"
    }
   ],
   "source": [
    "print(data['loan_status'].unique())\n",
    "ax = sns.countplot('loan_status',data = data)\n",
    "for p in ax.patches:\n",
    "    ax.annotate(str(format(int(p.get_height()), ',d')), (p.get_x(), p.get_height()*1.01))"
   ]
  },
  {
   "cell_type": "markdown",
   "metadata": {
    "_cell_guid": "69fc1640-025d-1cd4-650d-5128374c27c0"
   },
   "source": [
    "We have 3 labels for this target variables with the ratio of 3:1:1 (paid off: collection : collection paid off)."
   ]
  },
  {
   "cell_type": "markdown",
   "metadata": {
    "_cell_guid": "84c8acfa-a5d5-266a-bed5-9f4ea8a48c87"
   },
   "source": [
    "##### 3. Principal\n",
    "This is the loan amount at the origination. "
   ]
  },
  {
   "cell_type": "code",
   "execution_count": 118,
   "metadata": {},
   "outputs": [
    {
     "data": {
      "text/plain": [
       "array([1000,  300,  800,  900,  700,  500], dtype=int64)"
      ]
     },
     "execution_count": 118,
     "metadata": {},
     "output_type": "execute_result"
    }
   ],
   "source": [
    "data.Principal.unique()"
   ]
  },
  {
   "cell_type": "code",
   "execution_count": 159,
   "metadata": {},
   "outputs": [
    {
     "data": {
      "text/plain": [
       "<matplotlib.axes._subplots.AxesSubplot at 0x1ccb98eb4a8>"
      ]
     },
     "execution_count": 159,
     "metadata": {},
     "output_type": "execute_result"
    },
    {
     "data": {
      "image/png": "[encoded data removed]",
      "text/plain": [
       "<Figure size 1152x360 with 2 Axes>"
      ]
     },
     "metadata": {
      "needs_background": "light"
     },
     "output_type": "display_data"
    }
   ],
   "source": [
    "fig, axs = plt.subplots(1, 2, figsize=(16, 5))\n",
    "sns.boxplot(x='loan_status', y='Principal', data=data, ax=axs[1],hue='Gender')\n",
    "sns.distplot(data.Principal, bins=range(300, 1000, 100), ax=axs[0],kde = True)"
   ]
  },
  {
   "cell_type": "markdown",
   "metadata": {},
   "source": [
    "Based on distribution most of population borrowed loan of 1000(USD)\n",
    "\n",
    "from box plot its clear that female candidates are having more dues."
   ]
  },
  {
   "cell_type": "code",
   "execution_count": 85,
   "metadata": {},
   "outputs": [
    {
     "data": {
      "text/html": [
       "<div>\n",
       "<style scoped>\n",
       "    .dataframe tbody tr th:only-of-type {\n",
       "        vertical-align: middle;\n",
       "    }\n",
       "\n",
       "    .dataframe tbody tr th {\n",
       "        vertical-align: top;\n",
       "    }\n",
       "\n",
       "    .dataframe thead th {\n",
       "        text-align: right;\n",
       "    }\n",
       "</style>\n",
       "<table border=\"1\" class=\"dataframe\">\n",
       "  <thead>\n",
       "    <tr style=\"text-align: right;\">\n",
       "      <th></th>\n",
       "      <th></th>\n",
       "      <th></th>\n",
       "      <th>Loan_ID</th>\n",
       "    </tr>\n",
       "    <tr>\n",
       "      <th>loan_status</th>\n",
       "      <th>Principal</th>\n",
       "      <th>Gender</th>\n",
       "      <th></th>\n",
       "    </tr>\n",
       "  </thead>\n",
       "  <tbody>\n",
       "    <tr>\n",
       "      <th rowspan=\"4\" valign=\"top\">COLLECTION</th>\n",
       "      <th rowspan=\"2\" valign=\"top\">800</th>\n",
       "      <th>female</th>\n",
       "      <td>2</td>\n",
       "    </tr>\n",
       "    <tr>\n",
       "      <th>male</th>\n",
       "      <td>21</td>\n",
       "    </tr>\n",
       "    <tr>\n",
       "      <th rowspan=\"2\" valign=\"top\">1000</th>\n",
       "      <th>female</th>\n",
       "      <td>8</td>\n",
       "    </tr>\n",
       "    <tr>\n",
       "      <th>male</th>\n",
       "      <td>69</td>\n",
       "    </tr>\n",
       "    <tr>\n",
       "      <th rowspan=\"5\" valign=\"top\">COLLECTION_PAIDOFF</th>\n",
       "      <th>500</th>\n",
       "      <th>male</th>\n",
       "      <td>1</td>\n",
       "    </tr>\n",
       "    <tr>\n",
       "      <th rowspan=\"2\" valign=\"top\">800</th>\n",
       "      <th>female</th>\n",
       "      <td>4</td>\n",
       "    </tr>\n",
       "    <tr>\n",
       "      <th>male</th>\n",
       "      <td>15</td>\n",
       "    </tr>\n",
       "    <tr>\n",
       "      <th rowspan=\"2\" valign=\"top\">1000</th>\n",
       "      <th>female</th>\n",
       "      <td>10</td>\n",
       "    </tr>\n",
       "    <tr>\n",
       "      <th>male</th>\n",
       "      <td>70</td>\n",
       "    </tr>\n",
       "    <tr>\n",
       "      <th rowspan=\"10\" valign=\"top\">PAIDOFF</th>\n",
       "      <th>300</th>\n",
       "      <th>male</th>\n",
       "      <td>6</td>\n",
       "    </tr>\n",
       "    <tr>\n",
       "      <th rowspan=\"2\" valign=\"top\">500</th>\n",
       "      <th>female</th>\n",
       "      <td>1</td>\n",
       "    </tr>\n",
       "    <tr>\n",
       "      <th>male</th>\n",
       "      <td>1</td>\n",
       "    </tr>\n",
       "    <tr>\n",
       "      <th>700</th>\n",
       "      <th>male</th>\n",
       "      <td>1</td>\n",
       "    </tr>\n",
       "    <tr>\n",
       "      <th rowspan=\"2\" valign=\"top\">800</th>\n",
       "      <th>female</th>\n",
       "      <td>12</td>\n",
       "    </tr>\n",
       "    <tr>\n",
       "      <th>male</th>\n",
       "      <td>57</td>\n",
       "    </tr>\n",
       "    <tr>\n",
       "      <th rowspan=\"2\" valign=\"top\">900</th>\n",
       "      <th>female</th>\n",
       "      <td>1</td>\n",
       "    </tr>\n",
       "    <tr>\n",
       "      <th>male</th>\n",
       "      <td>1</td>\n",
       "    </tr>\n",
       "    <tr>\n",
       "      <th rowspan=\"2\" valign=\"top\">1000</th>\n",
       "      <th>female</th>\n",
       "      <td>39</td>\n",
       "    </tr>\n",
       "    <tr>\n",
       "      <th>male</th>\n",
       "      <td>181</td>\n",
       "    </tr>\n",
       "  </tbody>\n",
       "</table>\n",
       "</div>"
      ],
      "text/plain": [
       "                                     Loan_ID\n",
       "loan_status        Principal Gender         \n",
       "COLLECTION         800       female        2\n",
       "                             male         21\n",
       "                   1000      female        8\n",
       "                             male         69\n",
       "COLLECTION_PAIDOFF 500       male          1\n",
       "                   800       female        4\n",
       "                             male         15\n",
       "                   1000      female       10\n",
       "                             male         70\n",
       "PAIDOFF            300       male          6\n",
       "                   500       female        1\n",
       "                             male          1\n",
       "                   700       male          1\n",
       "                   800       female       12\n",
       "                             male         57\n",
       "                   900       female        1\n",
       "                             male          1\n",
       "                   1000      female       39\n",
       "                             male        181"
      ]
     },
     "execution_count": 85,
     "metadata": {},
     "output_type": "execute_result"
    }
   ],
   "source": [
    "grpby = data[['loan_status', 'Principal', 'Loan_ID','Gender']].groupby(['loan_status','Principal','Gender'])\n",
    "grpby.count()"
   ]
  },
  {
   "cell_type": "code",
   "execution_count": 92,
   "metadata": {},
   "outputs": [
    {
     "data": {
      "text/html": [
       "<div>\n",
       "<style scoped>\n",
       "    .dataframe tbody tr th:only-of-type {\n",
       "        vertical-align: middle;\n",
       "    }\n",
       "\n",
       "    .dataframe tbody tr th {\n",
       "        vertical-align: top;\n",
       "    }\n",
       "\n",
       "    .dataframe thead th {\n",
       "        text-align: right;\n",
       "    }\n",
       "</style>\n",
       "<table border=\"1\" class=\"dataframe\">\n",
       "  <thead>\n",
       "    <tr style=\"text-align: right;\">\n",
       "      <th></th>\n",
       "      <th></th>\n",
       "      <th>Principal</th>\n",
       "    </tr>\n",
       "    <tr>\n",
       "      <th>loan_status</th>\n",
       "      <th>Gender</th>\n",
       "      <th></th>\n",
       "    </tr>\n",
       "  </thead>\n",
       "  <tbody>\n",
       "    <tr>\n",
       "      <th rowspan=\"2\" valign=\"top\">COLLECTION</th>\n",
       "      <th>female</th>\n",
       "      <td>9600</td>\n",
       "    </tr>\n",
       "    <tr>\n",
       "      <th>male</th>\n",
       "      <td>85800</td>\n",
       "    </tr>\n",
       "    <tr>\n",
       "      <th rowspan=\"2\" valign=\"top\">COLLECTION_PAIDOFF</th>\n",
       "      <th>female</th>\n",
       "      <td>13200</td>\n",
       "    </tr>\n",
       "    <tr>\n",
       "      <th>male</th>\n",
       "      <td>82500</td>\n",
       "    </tr>\n",
       "    <tr>\n",
       "      <th rowspan=\"2\" valign=\"top\">PAIDOFF</th>\n",
       "      <th>female</th>\n",
       "      <td>50000</td>\n",
       "    </tr>\n",
       "    <tr>\n",
       "      <th>male</th>\n",
       "      <td>230500</td>\n",
       "    </tr>\n",
       "  </tbody>\n",
       "</table>\n",
       "</div>"
      ],
      "text/plain": [
       "                           Principal\n",
       "loan_status        Gender           \n",
       "COLLECTION         female       9600\n",
       "                   male        85800\n",
       "COLLECTION_PAIDOFF female      13200\n",
       "                   male        82500\n",
       "PAIDOFF            female      50000\n",
       "                   male       230500"
      ]
     },
     "execution_count": 92,
     "metadata": {},
     "output_type": "execute_result"
    }
   ],
   "source": [
    "grpby = data[['loan_status', 'Principal','Gender']].groupby(['loan_status','Gender'])\n",
    "grpby.sum()"
   ]
  },
  {
   "cell_type": "markdown",
   "metadata": {},
   "source": [
    "From this data its clear that male candidate is having more money to paidoff,collection and collection_paid off which makes above box plot meaningless.\n",
    "or its me who is not able to plot it properly.\n",
    "with the help Tebleu i am able to do what i actually want to represent and here its link\n",
    "[boxplot using Tableu](https://public.tableau.com/profile/kamran.shaikh#!/vizhome/loan_status/Sheet1?publish=yes)"
   ]
  },
  {
   "cell_type": "code",
   "execution_count": 174,
   "metadata": {},
   "outputs": [
    {
     "data": {
      "image/jpeg": "[encoded data removed]",
      "text/plain": [
       "<IPython.core.display.Image object>"
      ]
     },
     "execution_count": 174,
     "metadata": {},
     "output_type": "execute_result"
    }
   ],
   "source": [
    "from IPython import display\n",
    "display.Image(filename= r'C:/Users/Kamran/Pictures/boxplot.JPG')"
   ]
  },
  {
   "cell_type": "markdown",
   "metadata": {},
   "source": [
    "##### 4. Terms\n",
    "This is the payoff schedule, which can be in week, month etc."
   ]
  },
  {
   "cell_type": "code",
   "execution_count": 187,
   "metadata": {},
   "outputs": [
    {
     "data": {
      "text/plain": [
       "<matplotlib.legend.Legend at 0x1ccbe702358>"
      ]
     },
     "execution_count": 187,
     "metadata": {},
     "output_type": "execute_result"
    },
    {
     "data": {
      "image/png": "[encoded data removed]",
      "text/plain": [
       "<Figure size 1152x360 with 2 Axes>"
      ]
     },
     "metadata": {
      "needs_background": "light"
     },
     "output_type": "display_data"
    }
   ],
   "source": [
    "fig, axs = plt.subplots(1, 2, figsize=(16,5))\n",
    "sns.countplot(loan_data.terms, ax=axs[0])\n",
    "axs[0].set_title(\"Count of Terms of loan\")\n",
    "for p in axs[0].patches:\n",
    "    axs[0].annotate(str(format(int(p.get_height()), ',d')), (p.get_x(), p.get_height()*1.01))\n",
    "\n",
    "sns.countplot(x='terms', hue='loan_status', data=loan_data, ax=axs[1])\n",
    "axs[1].set_title(\"Term count breakdown by loan_status\")\n",
    "for t in axs[1].patches:\n",
    "    if (np.isnan(float(t.get_height()))):\n",
    "        axs[1].annotate(0, (t.get_x(), 0))\n",
    "    else:\n",
    "        axs[1].annotate(str(format(int(t.get_height()), ',d')), (t.get_x(), t.get_height()*1.01))\n",
    "\n",
    "axs[1].legend(loc='upper left')"
   ]
  },
  {
   "cell_type": "markdown",
   "metadata": {},
   "source": [
    "##### 5, 6, 7, 8. effective_date, due_date, paid_off_time, and past_due_days\n",
    "\n",
    "These data points are essentially related to the date of the loan and payment."
   ]
  },
  {
   "cell_type": "code",
   "execution_count": 7,
   "metadata": {},
   "outputs": [
    {
     "name": "stderr",
     "output_type": "stream",
     "text": [
      "C:\\Users\\Kamran\\Anaconda3\\lib\\site-packages\\numpy\\lib\\histograms.py:829: RuntimeWarning: invalid value encountered in greater_equal\n",
      "  keep = (tmp_a >= first_edge)\n",
      "C:\\Users\\Kamran\\Anaconda3\\lib\\site-packages\\numpy\\lib\\histograms.py:830: RuntimeWarning: invalid value encountered in less_equal\n",
      "  keep &= (tmp_a <= last_edge)\n"
     ]
    },
    {
     "data": {
      "text/plain": [
       "<seaborn.axisgrid.PairGrid at 0x221f58263c8>"
      ]
     },
     "execution_count": 7,
     "metadata": {},
     "output_type": "execute_result"
    },
    {
     "data": {
      "image/png": "[encoded data removed]",
      "text/plain": [
       "<Figure size 720x720 with 20 Axes>"
      ]
     },
     "metadata": {
      "needs_background": "light"
     },
     "output_type": "display_data"
    }
   ],
   "source": [
    "for_pair_plot = data.drop(['Loan_ID','due_date','paid_off_time'],axis=1)\n",
    "sns.pairplot(for_pair_plot)"
   ]
  },
  {
   "cell_type": "code",
   "execution_count": null,
   "metadata": {},
   "outputs": [],
   "source": []
  },
  {
   "cell_type": "code",
   "execution_count": 16,
   "metadata": {},
   "outputs": [],
   "source": [
    "\n",
    "\n",
    "\n",
    "\n",
    "#fig2.keys()\n",
    "#data['loan_status'].value_counts()\n",
    "\n",
    "\n",
    "#fig3.values()"
   ]
  },
  {
   "cell_type": "code",
   "execution_count": null,
   "metadata": {},
   "outputs": [],
   "source": [
    "#fig1 = data['Gender'].value_counts().plot.bar(color = 'Green')\n",
    "#fig2 = data['loan_status'].value_counts().plot.bar(color = 'black' )\n",
    "#fig3 = data['education'].value_counts().plot.bar(color = 'orange')"
   ]
  },
  {
   "cell_type": "code",
   "execution_count": 25,
   "metadata": {},
   "outputs": [
    {
     "data": {
      "image/png": "[encoded data removed]",
      "text/plain": [
       "<Figure size 1152x576 with 3 Axes>"
      ]
     },
     "metadata": {
      "needs_background": "light"
     },
     "output_type": "display_data"
    }
   ],
   "source": [
    "fig1 = dict(data['Gender'].value_counts())\n",
    "fig2 = dict(data['loan_status'].value_counts())\n",
    "fig3 = dict(data['education'].value_counts())\n",
    "\n",
    "\n",
    "\n",
    "\n",
    "fig_, axes = plt.subplots(1, 3, figsize=(16, 8))\n",
    "axes[0].bar(fig1.keys(),fig1.values(),color = 'red')\n",
    "axes[0].set_xticklabels(fig1.keys())\n",
    "\n",
    "axes[1].bar(fig2.keys(),fig2.values(),color = 'green')\n",
    "axes[1].set_xticklabels(fig2.keys(), rotation=30)\n",
    "axes[2].bar(fig3.keys(),fig3.values(),color = 'orange')\n",
    "axes[2].set_xticklabels(fig3.keys(), rotation=20)\n",
    "\n",
    "plt.tight_layout()"
   ]
  },
  {
   "cell_type": "code",
   "execution_count": 6,
   "metadata": {},
   "outputs": [],
   "source": [
    "#ax = sns.barplot(x = fig.keys()[0],y =data['Gender'].value_counts() )\n",
    "#ax1 = sns.barplot(x = ['Male','Female'],y =data['education'].value_counts() )\n",
    "#ax2 = sns.barplot(x = ['Male','Female'],y =data['leon_status'].value_counts() )"
   ]
  },
  {
   "cell_type": "code",
   "execution_count": 44,
   "metadata": {},
   "outputs": [
    {
     "name": "stderr",
     "output_type": "stream",
     "text": [
      "C:\\Users\\Kamran\\Anaconda3\\lib\\site-packages\\seaborn\\axisgrid.py:715: UserWarning: Using the countplot function without specifying `order` is likely to produce an incorrect plot.\n",
      "  warnings.warn(warning)\n"
     ]
    },
    {
     "data": {
      "text/plain": [
       "<seaborn.axisgrid.FacetGrid at 0x15ff236a240>"
      ]
     },
     "execution_count": 44,
     "metadata": {},
     "output_type": "execute_result"
    },
    {
     "data": {
      "image/png": "[encoded data removed]",
      "text/plain": [
       "<Figure size 1193.7x216 with 4 Axes>"
      ]
     },
     "metadata": {
      "needs_background": "light"
     },
     "output_type": "display_data"
    }
   ],
   "source": [
    "sns_plot = sns.FacetGrid(data,col ='education' ,hue ='Gender',aspect=1.3)\n",
    "sns_plot.map(sns.countplot,'loan_status').add_legend()"
   ]
  },
  {
   "cell_type": "code",
   "execution_count": 45,
   "metadata": {},
   "outputs": [
    {
     "data": {
      "text/plain": [
       "loan_status\n",
       "COLLECTION             95400\n",
       "COLLECTION_PAIDOFF     95700\n",
       "PAIDOFF               280500\n",
       "Name: Principal, dtype: int64"
      ]
     },
     "execution_count": 45,
     "metadata": {},
     "output_type": "execute_result"
    }
   ],
   "source": [
    "data.groupby('loan_status')['Principal'].sum()"
   ]
  },
  {
   "cell_type": "code",
   "execution_count": 33,
   "metadata": {},
   "outputs": [
    {
     "data": {
      "image/png": "[encoded data removed]",
      "text/plain": [
       "<Figure size 1152x1080 with 6 Axes>"
      ]
     },
     "metadata": {
      "needs_background": "light"
     },
     "output_type": "display_data"
    }
   ],
   "source": [
    "fig, axs = plt.subplots(3, 2, figsize=(16, 15))\n",
    "sns.distplot(data.age, ax=axs[0][0],color = 'red')\n",
    "axs[0][0].set_title(\"Total age distribution across dataset\")\n",
    "sns.boxplot(x='loan_status', y='age', data=data, ax=axs[0][1])\n",
    "axs[0][1].set_title(\"Age distribution by loan status\")\n",
    "sns.countplot(x='education', data=data, ax=axs[1][0])\n",
    "axs[1][0].set_title(\"Education count\")\n",
    "for t in axs[1][0].patches:\n",
    "    if (np.isnan(float(t.get_height()))):\n",
    "        axs[1][0].annotate('', (t.get_x(), 0))\n",
    "    else:\n",
    "        axs[1][0].annotate(str(format(int(t.get_height()), ',d')), (t.get_x(), t.get_height()*1.01))\n",
    "\n",
    "sns.countplot(x='education', data=data, hue='loan_status', ax=axs[1][1])\n",
    "axs[1][1].set_title(\"Education by loan status\")\n",
    "for t in axs[1][1].patches:\n",
    "    if (np.isnan(float(t.get_height()))):\n",
    "        axs[1][1].annotate('', (t.get_x(), 0))\n",
    "    else:\n",
    "        axs[1][1].annotate(str(format(int(t.get_height()), ',d')), (t.get_x(), t.get_height()*1.01))\n",
    "\n",
    "axs[1][1].legend(loc='upper right')\n",
    "sns.countplot(x='Gender', data=data, ax=axs[2][0])\n",
    "axs[2][0].set_title(\"# of Gender\")\n",
    "for t in axs[2][0].patches:\n",
    "    if (np.isnan(float(t.get_height()))):\n",
    "        axs[2][0].annotate('', (t.get_x(), 0))\n",
    "    else:\n",
    "        axs[2][0].annotate(str(format(int(t.get_height()), ',d')), (t.get_x(), t.get_height()*1.01))\n",
    "\n",
    "sns.countplot(x='Gender', data=data, hue='education', ax=axs[2][1])\n",
    "axs[2][1].set_title(\"Education of the gender\")\n",
    "for t in axs[2][1].patches:\n",
    "    if (np.isnan(float(t.get_height()))):\n",
    "        axs[2][1].annotate('', (t.get_x(), 0))\n",
    "    else:\n",
    "        axs[2][1].annotate(str(format(int(t.get_height()), ',d')), (t.get_x(), t.get_height()*1.01))\n",
    "\n",
    "plt.show();"
   ]
  },
  {
   "cell_type": "code",
   "execution_count": 28,
   "metadata": {},
   "outputs": [
    {
     "data": {
      "text/html": [
       "<div>\n",
       "<style scoped>\n",
       "    .dataframe tbody tr th:only-of-type {\n",
       "        vertical-align: middle;\n",
       "    }\n",
       "\n",
       "    .dataframe tbody tr th {\n",
       "        vertical-align: top;\n",
       "    }\n",
       "\n",
       "    .dataframe thead th {\n",
       "        text-align: right;\n",
       "    }\n",
       "</style>\n",
       "<table border=\"1\" class=\"dataframe\">\n",
       "  <thead>\n",
       "    <tr style=\"text-align: right;\">\n",
       "      <th>col_0</th>\n",
       "      <th>female_Bechalor</th>\n",
       "      <th>female_High School or Below</th>\n",
       "      <th>female_college</th>\n",
       "      <th>male_Bechalor</th>\n",
       "      <th>male_High School or Below</th>\n",
       "      <th>male_Master or Above</th>\n",
       "      <th>male_college</th>\n",
       "      <th>All</th>\n",
       "    </tr>\n",
       "    <tr>\n",
       "      <th>loan_status</th>\n",
       "      <th></th>\n",
       "      <th></th>\n",
       "      <th></th>\n",
       "      <th></th>\n",
       "      <th></th>\n",
       "      <th></th>\n",
       "      <th></th>\n",
       "      <th></th>\n",
       "    </tr>\n",
       "  </thead>\n",
       "  <tbody>\n",
       "    <tr>\n",
       "      <th>COLLECTION</th>\n",
       "      <td>0</td>\n",
       "      <td>7</td>\n",
       "      <td>3</td>\n",
       "      <td>11</td>\n",
       "      <td>42</td>\n",
       "      <td>1</td>\n",
       "      <td>36</td>\n",
       "      <td>100</td>\n",
       "    </tr>\n",
       "    <tr>\n",
       "      <th>COLLECTION_PAIDOFF</th>\n",
       "      <td>1</td>\n",
       "      <td>5</td>\n",
       "      <td>8</td>\n",
       "      <td>14</td>\n",
       "      <td>32</td>\n",
       "      <td>0</td>\n",
       "      <td>40</td>\n",
       "      <td>100</td>\n",
       "    </tr>\n",
       "    <tr>\n",
       "      <th>PAIDOFF</th>\n",
       "      <td>12</td>\n",
       "      <td>19</td>\n",
       "      <td>22</td>\n",
       "      <td>29</td>\n",
       "      <td>104</td>\n",
       "      <td>3</td>\n",
       "      <td>111</td>\n",
       "      <td>300</td>\n",
       "    </tr>\n",
       "    <tr>\n",
       "      <th>All</th>\n",
       "      <td>13</td>\n",
       "      <td>31</td>\n",
       "      <td>33</td>\n",
       "      <td>54</td>\n",
       "      <td>178</td>\n",
       "      <td>4</td>\n",
       "      <td>187</td>\n",
       "      <td>500</td>\n",
       "    </tr>\n",
       "  </tbody>\n",
       "</table>\n",
       "</div>"
      ],
      "text/plain": [
       "col_0               female_Bechalor  female_High School or Below  \\\n",
       "loan_status                                                        \n",
       "COLLECTION                        0                            7   \n",
       "COLLECTION_PAIDOFF                1                            5   \n",
       "PAIDOFF                          12                           19   \n",
       "All                              13                           31   \n",
       "\n",
       "col_0               female_college  male_Bechalor  male_High School or Below  \\\n",
       "loan_status                                                                    \n",
       "COLLECTION                       3             11                         42   \n",
       "COLLECTION_PAIDOFF               8             14                         32   \n",
       "PAIDOFF                         22             29                        104   \n",
       "All                             33             54                        178   \n",
       "\n",
       "col_0               male_Master or Above  male_college  All  \n",
       "loan_status                                                  \n",
       "COLLECTION                             1            36  100  \n",
       "COLLECTION_PAIDOFF                     0            40  100  \n",
       "PAIDOFF                                3           111  300  \n",
       "All                                    4           187  500  "
      ]
     },
     "execution_count": 28,
     "metadata": {},
     "output_type": "execute_result"
    }
   ],
   "source": [
    "# Quick view on education + gender => impact to loan_status\n",
    "pd.crosstab(data.loan_status, data.Gender + \"_\" + data.education, margins=True)"
   ]
  },
  {
   "cell_type": "code",
   "execution_count": 29,
   "metadata": {},
   "outputs": [
    {
     "data": {
      "text/html": [
       "<div>\n",
       "<style scoped>\n",
       "    .dataframe tbody tr th:only-of-type {\n",
       "        vertical-align: middle;\n",
       "    }\n",
       "\n",
       "    .dataframe tbody tr th {\n",
       "        vertical-align: top;\n",
       "    }\n",
       "\n",
       "    .dataframe thead th {\n",
       "        text-align: right;\n",
       "    }\n",
       "</style>\n",
       "<table border=\"1\" class=\"dataframe\">\n",
       "  <thead>\n",
       "    <tr style=\"text-align: right;\">\n",
       "      <th>col_0</th>\n",
       "      <th>female_Bechalor</th>\n",
       "      <th>female_High School or Below</th>\n",
       "      <th>female_college</th>\n",
       "      <th>male_Bechalor</th>\n",
       "      <th>male_High School or Below</th>\n",
       "      <th>male_Master or Above</th>\n",
       "      <th>male_college</th>\n",
       "      <th>All</th>\n",
       "    </tr>\n",
       "    <tr>\n",
       "      <th>loan_status</th>\n",
       "      <th></th>\n",
       "      <th></th>\n",
       "      <th></th>\n",
       "      <th></th>\n",
       "      <th></th>\n",
       "      <th></th>\n",
       "      <th></th>\n",
       "      <th></th>\n",
       "    </tr>\n",
       "  </thead>\n",
       "  <tbody>\n",
       "    <tr>\n",
       "      <th>COLLECTION</th>\n",
       "      <td>0.000</td>\n",
       "      <td>0.014</td>\n",
       "      <td>0.006</td>\n",
       "      <td>0.022</td>\n",
       "      <td>0.084</td>\n",
       "      <td>0.002</td>\n",
       "      <td>0.072</td>\n",
       "      <td>0.2</td>\n",
       "    </tr>\n",
       "    <tr>\n",
       "      <th>COLLECTION_PAIDOFF</th>\n",
       "      <td>0.002</td>\n",
       "      <td>0.010</td>\n",
       "      <td>0.016</td>\n",
       "      <td>0.028</td>\n",
       "      <td>0.064</td>\n",
       "      <td>0.000</td>\n",
       "      <td>0.080</td>\n",
       "      <td>0.2</td>\n",
       "    </tr>\n",
       "    <tr>\n",
       "      <th>PAIDOFF</th>\n",
       "      <td>0.024</td>\n",
       "      <td>0.038</td>\n",
       "      <td>0.044</td>\n",
       "      <td>0.058</td>\n",
       "      <td>0.208</td>\n",
       "      <td>0.006</td>\n",
       "      <td>0.222</td>\n",
       "      <td>0.6</td>\n",
       "    </tr>\n",
       "    <tr>\n",
       "      <th>All</th>\n",
       "      <td>0.026</td>\n",
       "      <td>0.062</td>\n",
       "      <td>0.066</td>\n",
       "      <td>0.108</td>\n",
       "      <td>0.356</td>\n",
       "      <td>0.008</td>\n",
       "      <td>0.374</td>\n",
       "      <td>1.0</td>\n",
       "    </tr>\n",
       "  </tbody>\n",
       "</table>\n",
       "</div>"
      ],
      "text/plain": [
       "col_0               female_Bechalor  female_High School or Below  \\\n",
       "loan_status                                                        \n",
       "COLLECTION                    0.000                        0.014   \n",
       "COLLECTION_PAIDOFF            0.002                        0.010   \n",
       "PAIDOFF                       0.024                        0.038   \n",
       "All                           0.026                        0.062   \n",
       "\n",
       "col_0               female_college  male_Bechalor  male_High School or Below  \\\n",
       "loan_status                                                                    \n",
       "COLLECTION                   0.006          0.022                      0.084   \n",
       "COLLECTION_PAIDOFF           0.016          0.028                      0.064   \n",
       "PAIDOFF                      0.044          0.058                      0.208   \n",
       "All                          0.066          0.108                      0.356   \n",
       "\n",
       "col_0               male_Master or Above  male_college  All  \n",
       "loan_status                                                  \n",
       "COLLECTION                         0.002         0.072  0.2  \n",
       "COLLECTION_PAIDOFF                 0.000         0.080  0.2  \n",
       "PAIDOFF                            0.006         0.222  0.6  \n",
       "All                                0.008         0.374  1.0  "
      ]
     },
     "execution_count": 29,
     "metadata": {},
     "output_type": "execute_result"
    }
   ],
   "source": [
    "pd.crosstab(data.loan_status, data.Gender + \"_\" + data.education, margins=True, normalize='all')"
   ]
  },
  {
   "cell_type": "code",
   "execution_count": 30,
   "metadata": {},
   "outputs": [
    {
     "data": {
      "text/html": [
       "<div>\n",
       "<style scoped>\n",
       "    .dataframe tbody tr th:only-of-type {\n",
       "        vertical-align: middle;\n",
       "    }\n",
       "\n",
       "    .dataframe tbody tr th {\n",
       "        vertical-align: top;\n",
       "    }\n",
       "\n",
       "    .dataframe thead th {\n",
       "        text-align: right;\n",
       "    }\n",
       "</style>\n",
       "<table border=\"1\" class=\"dataframe\">\n",
       "  <thead>\n",
       "    <tr style=\"text-align: right;\">\n",
       "      <th>col_0</th>\n",
       "      <th>female_Bechalor</th>\n",
       "      <th>female_High School or Below</th>\n",
       "      <th>female_college</th>\n",
       "      <th>male_Bechalor</th>\n",
       "      <th>male_High School or Below</th>\n",
       "      <th>male_Master or Above</th>\n",
       "      <th>male_college</th>\n",
       "    </tr>\n",
       "    <tr>\n",
       "      <th>loan_status</th>\n",
       "      <th></th>\n",
       "      <th></th>\n",
       "      <th></th>\n",
       "      <th></th>\n",
       "      <th></th>\n",
       "      <th></th>\n",
       "      <th></th>\n",
       "    </tr>\n",
       "  </thead>\n",
       "  <tbody>\n",
       "    <tr>\n",
       "      <th>COLLECTION</th>\n",
       "      <td>0.000</td>\n",
       "      <td>0.070000</td>\n",
       "      <td>0.030000</td>\n",
       "      <td>0.110000</td>\n",
       "      <td>0.420000</td>\n",
       "      <td>0.010</td>\n",
       "      <td>0.360</td>\n",
       "    </tr>\n",
       "    <tr>\n",
       "      <th>COLLECTION_PAIDOFF</th>\n",
       "      <td>0.010</td>\n",
       "      <td>0.050000</td>\n",
       "      <td>0.080000</td>\n",
       "      <td>0.140000</td>\n",
       "      <td>0.320000</td>\n",
       "      <td>0.000</td>\n",
       "      <td>0.400</td>\n",
       "    </tr>\n",
       "    <tr>\n",
       "      <th>PAIDOFF</th>\n",
       "      <td>0.040</td>\n",
       "      <td>0.063333</td>\n",
       "      <td>0.073333</td>\n",
       "      <td>0.096667</td>\n",
       "      <td>0.346667</td>\n",
       "      <td>0.010</td>\n",
       "      <td>0.370</td>\n",
       "    </tr>\n",
       "    <tr>\n",
       "      <th>All</th>\n",
       "      <td>0.026</td>\n",
       "      <td>0.062000</td>\n",
       "      <td>0.066000</td>\n",
       "      <td>0.108000</td>\n",
       "      <td>0.356000</td>\n",
       "      <td>0.008</td>\n",
       "      <td>0.374</td>\n",
       "    </tr>\n",
       "  </tbody>\n",
       "</table>\n",
       "</div>"
      ],
      "text/plain": [
       "col_0               female_Bechalor  female_High School or Below  \\\n",
       "loan_status                                                        \n",
       "COLLECTION                    0.000                     0.070000   \n",
       "COLLECTION_PAIDOFF            0.010                     0.050000   \n",
       "PAIDOFF                       0.040                     0.063333   \n",
       "All                           0.026                     0.062000   \n",
       "\n",
       "col_0               female_college  male_Bechalor  male_High School or Below  \\\n",
       "loan_status                                                                    \n",
       "COLLECTION                0.030000       0.110000                   0.420000   \n",
       "COLLECTION_PAIDOFF        0.080000       0.140000                   0.320000   \n",
       "PAIDOFF                   0.073333       0.096667                   0.346667   \n",
       "All                       0.066000       0.108000                   0.356000   \n",
       "\n",
       "col_0               male_Master or Above  male_college  \n",
       "loan_status                                             \n",
       "COLLECTION                         0.010         0.360  \n",
       "COLLECTION_PAIDOFF                 0.000         0.400  \n",
       "PAIDOFF                            0.010         0.370  \n",
       "All                                0.008         0.374  "
      ]
     },
     "execution_count": 30,
     "metadata": {},
     "output_type": "execute_result"
    }
   ],
   "source": [
    "pd.crosstab(data.loan_status, data.Gender + \"_\" + data.education, margins=True, normalize='index')"
   ]
  },
  {
   "cell_type": "code",
   "execution_count": 31,
   "metadata": {},
   "outputs": [
    {
     "data": {
      "text/html": [
       "<div>\n",
       "<style scoped>\n",
       "    .dataframe tbody tr th:only-of-type {\n",
       "        vertical-align: middle;\n",
       "    }\n",
       "\n",
       "    .dataframe tbody tr th {\n",
       "        vertical-align: top;\n",
       "    }\n",
       "\n",
       "    .dataframe thead th {\n",
       "        text-align: right;\n",
       "    }\n",
       "</style>\n",
       "<table border=\"1\" class=\"dataframe\">\n",
       "  <thead>\n",
       "    <tr style=\"text-align: right;\">\n",
       "      <th>col_0</th>\n",
       "      <th>female_Bechalor</th>\n",
       "      <th>female_High School or Below</th>\n",
       "      <th>female_college</th>\n",
       "      <th>male_Bechalor</th>\n",
       "      <th>male_High School or Below</th>\n",
       "      <th>male_Master or Above</th>\n",
       "      <th>male_college</th>\n",
       "      <th>All</th>\n",
       "    </tr>\n",
       "    <tr>\n",
       "      <th>loan_status</th>\n",
       "      <th></th>\n",
       "      <th></th>\n",
       "      <th></th>\n",
       "      <th></th>\n",
       "      <th></th>\n",
       "      <th></th>\n",
       "      <th></th>\n",
       "      <th></th>\n",
       "    </tr>\n",
       "  </thead>\n",
       "  <tbody>\n",
       "    <tr>\n",
       "      <th>COLLECTION</th>\n",
       "      <td>0.000000</td>\n",
       "      <td>0.225806</td>\n",
       "      <td>0.090909</td>\n",
       "      <td>0.203704</td>\n",
       "      <td>0.235955</td>\n",
       "      <td>0.25</td>\n",
       "      <td>0.192513</td>\n",
       "      <td>0.2</td>\n",
       "    </tr>\n",
       "    <tr>\n",
       "      <th>COLLECTION_PAIDOFF</th>\n",
       "      <td>0.076923</td>\n",
       "      <td>0.161290</td>\n",
       "      <td>0.242424</td>\n",
       "      <td>0.259259</td>\n",
       "      <td>0.179775</td>\n",
       "      <td>0.00</td>\n",
       "      <td>0.213904</td>\n",
       "      <td>0.2</td>\n",
       "    </tr>\n",
       "    <tr>\n",
       "      <th>PAIDOFF</th>\n",
       "      <td>0.923077</td>\n",
       "      <td>0.612903</td>\n",
       "      <td>0.666667</td>\n",
       "      <td>0.537037</td>\n",
       "      <td>0.584270</td>\n",
       "      <td>0.75</td>\n",
       "      <td>0.593583</td>\n",
       "      <td>0.6</td>\n",
       "    </tr>\n",
       "  </tbody>\n",
       "</table>\n",
       "</div>"
      ],
      "text/plain": [
       "col_0               female_Bechalor  female_High School or Below  \\\n",
       "loan_status                                                        \n",
       "COLLECTION                 0.000000                     0.225806   \n",
       "COLLECTION_PAIDOFF         0.076923                     0.161290   \n",
       "PAIDOFF                    0.923077                     0.612903   \n",
       "\n",
       "col_0               female_college  male_Bechalor  male_High School or Below  \\\n",
       "loan_status                                                                    \n",
       "COLLECTION                0.090909       0.203704                   0.235955   \n",
       "COLLECTION_PAIDOFF        0.242424       0.259259                   0.179775   \n",
       "PAIDOFF                   0.666667       0.537037                   0.584270   \n",
       "\n",
       "col_0               male_Master or Above  male_college  All  \n",
       "loan_status                                                  \n",
       "COLLECTION                          0.25      0.192513  0.2  \n",
       "COLLECTION_PAIDOFF                  0.00      0.213904  0.2  \n",
       "PAIDOFF                             0.75      0.593583  0.6  "
      ]
     },
     "execution_count": 31,
     "metadata": {},
     "output_type": "execute_result"
    }
   ],
   "source": [
    "pd.crosstab(data.loan_status, data.Gender + \"_\" + data.education, margins=True, normalize='columns')"
   ]
  },
  {
   "cell_type": "code",
   "execution_count": 23,
   "metadata": {},
   "outputs": [
    {
     "name": "stderr",
     "output_type": "stream",
     "text": [
      "C:\\Users\\Kamran\\Anaconda3\\lib\\site-packages\\sklearn\\preprocessing\\_encoders.py:415: FutureWarning: The handling of integer data will change in version 0.22. Currently, the categories are determined based on the range [0, max(values)], while in the future they will be determined based on the unique values.\n",
      "If you want the future behaviour and silence this warning, you can specify \"categories='auto'\".\n",
      "In case you used a LabelEncoder before this OneHotEncoder to convert the categories to integers, then you can now use the OneHotEncoder directly.\n",
      "  warnings.warn(msg, FutureWarning)\n",
      "C:\\Users\\Kamran\\Anaconda3\\lib\\site-packages\\sklearn\\utils\\validation.py:724: DataConversionWarning: A column-vector y was passed when a 1d array was expected. Please change the shape of y to (n_samples, ), for example using ravel().\n",
      "  y = column_or_1d(y, warn=True)\n",
      "C:\\Users\\Kamran\\Anaconda3\\lib\\site-packages\\sklearn\\utils\\validation.py:724: DataConversionWarning: A column-vector y was passed when a 1d array was expected. Please change the shape of y to (n_samples, ), for example using ravel().\n",
      "  y = column_or_1d(y, warn=True)\n",
      "C:\\Users\\Kamran\\Anaconda3\\lib\\site-packages\\sklearn\\utils\\validation.py:724: DataConversionWarning: A column-vector y was passed when a 1d array was expected. Please change the shape of y to (n_samples, ), for example using ravel().\n",
      "  y = column_or_1d(y, warn=True)\n",
      "C:\\Users\\Kamran\\Anaconda3\\lib\\site-packages\\sklearn\\utils\\validation.py:724: DataConversionWarning: A column-vector y was passed when a 1d array was expected. Please change the shape of y to (n_samples, ), for example using ravel().\n",
      "  y = column_or_1d(y, warn=True)\n",
      "C:\\Users\\Kamran\\Anaconda3\\lib\\site-packages\\sklearn\\utils\\validation.py:724: DataConversionWarning: A column-vector y was passed when a 1d array was expected. Please change the shape of y to (n_samples, ), for example using ravel().\n",
      "  y = column_or_1d(y, warn=True)\n",
      "C:\\Users\\Kamran\\Anaconda3\\lib\\site-packages\\sklearn\\utils\\validation.py:724: DataConversionWarning: A column-vector y was passed when a 1d array was expected. Please change the shape of y to (n_samples, ), for example using ravel().\n",
      "  y = column_or_1d(y, warn=True)\n",
      "C:\\Users\\Kamran\\Anaconda3\\lib\\site-packages\\sklearn\\utils\\validation.py:724: DataConversionWarning: A column-vector y was passed when a 1d array was expected. Please change the shape of y to (n_samples, ), for example using ravel().\n",
      "  y = column_or_1d(y, warn=True)\n",
      "C:\\Users\\Kamran\\Anaconda3\\lib\\site-packages\\sklearn\\utils\\validation.py:724: DataConversionWarning: A column-vector y was passed when a 1d array was expected. Please change the shape of y to (n_samples, ), for example using ravel().\n",
      "  y = column_or_1d(y, warn=True)\n",
      "C:\\Users\\Kamran\\Anaconda3\\lib\\site-packages\\sklearn\\utils\\validation.py:724: DataConversionWarning: A column-vector y was passed when a 1d array was expected. Please change the shape of y to (n_samples, ), for example using ravel().\n",
      "  y = column_or_1d(y, warn=True)\n",
      "C:\\Users\\Kamran\\Anaconda3\\lib\\site-packages\\sklearn\\utils\\validation.py:724: DataConversionWarning: A column-vector y was passed when a 1d array was expected. Please change the shape of y to (n_samples, ), for example using ravel().\n",
      "  y = column_or_1d(y, warn=True)\n",
      "C:\\Users\\Kamran\\Anaconda3\\lib\\site-packages\\sklearn\\utils\\validation.py:724: DataConversionWarning: A column-vector y was passed when a 1d array was expected. Please change the shape of y to (n_samples, ), for example using ravel().\n",
      "  y = column_or_1d(y, warn=True)\n",
      "C:\\Users\\Kamran\\Anaconda3\\lib\\site-packages\\sklearn\\utils\\validation.py:724: DataConversionWarning: A column-vector y was passed when a 1d array was expected. Please change the shape of y to (n_samples, ), for example using ravel().\n",
      "  y = column_or_1d(y, warn=True)\n"
     ]
    }
   ],
   "source": [
    "\n",
    "\"\"\"\n",
    "LDA is used to get better visualisaton results\n",
    "and with LDA Support Vector Classifier gives best results\n",
    "\"\"\"\n",
    "\n",
    "import pandas as pd\n",
    "import numpy as np\n",
    "import matplotlib.pyplot as plt\n",
    "import math\n",
    "\n",
    "\n",
    "# Importing the dataset\n",
    "dataset = pd.read_csv('C:\\\\Users\\\\Kamran\\\\Downloads\\\\loandata\\\\Loan.csv')\n",
    "dataset = dataset.drop(columns = ['effective_date','due_date','paid_off_time'],axis = 1)\n",
    "#converting nan to 0\n",
    "dataset.loc[:,'past_due_days'] = dataset.loc[:,'past_due_days'].replace(np.nan,0)\n",
    "#dealing with categorical data\n",
    "dataset['Gender']= pd.get_dummies(dataset['Gender'])\n",
    "#selecting independent variable\n",
    "X = dataset.loc[:, ['Principal','terms','past_due_days','age','education','Gender']].values\n",
    "#selecting dependent variable\n",
    "y = dataset.loc[:,['loan_status']]\n",
    "#converting string into integer(again categorical data)\n",
    "y = y.replace(to_replace ='PAIDOFF' ,value = 1)\n",
    "y = y.replace(to_replace =['COLLECTION_PAIDOFF'] ,value = 2)\n",
    "y = y.replace(to_replace =['COLLECTION'] ,value = 3)\n",
    "\n",
    "#dealing with categories of education features\n",
    "from sklearn.preprocessing import LabelEncoder,OneHotEncoder\n",
    "labelencoder_X = LabelEncoder()\n",
    "X[:, 4] = labelencoder_X.fit_transform(X[:, 4])\n",
    "onehotencoder = OneHotEncoder(categorical_features = [4])\n",
    "X = onehotencoder.fit_transform(X).toarray()\n",
    "\n",
    "#avoiding dummy variable trap\n",
    "X = X[:,1:]\n",
    "#converting DataFrame into object\n",
    "y = y.values\n",
    "\n",
    "#spliting data into training and test set\n",
    "from sklearn.model_selection import train_test_split\n",
    "X_train, X_test, y_train, y_test = train_test_split(X, y, test_size = 0.2, random_state = 0)\n",
    "\n",
    "from sklearn.preprocessing import StandardScaler\n",
    "sc = StandardScaler()\n",
    "X_train[:,3:7] = sc.fit_transform(X_train[:,3:7])\n",
    "X_test[:,3:7] = sc.transform(X_test[:,3:7])\n",
    "\n",
    "from sklearn.discriminant_analysis import LinearDiscriminantAnalysis as LDA\n",
    "lda = LDA(n_components = 2)\n",
    "X_train = lda.fit_transform(X_train,y_train)\n",
    "X_test = lda.transform(X_test)\n",
    "\n",
    "from sklearn.svm import SVC\n",
    "classifier = SVC(C = 100,kernel = 'linear', random_state = 0)\n",
    "classifier.fit(X_train, y_train)\n",
    "\n",
    "y_pred = classifier.predict(X_test)\n",
    "\n",
    "# Making the Confusion Matrix\n",
    "from sklearn.metrics import confusion_matrix\n",
    "cm = confusion_matrix(y_test, y_pred)\n",
    "\n",
    "\n",
    "#this step is to find out bais and variance trade off of model\n",
    "from sklearn.model_selection import cross_val_score\n",
    "accuracy = cross_val_score(estimator = classifier,X = X_train, y = y_train,cv = 10)\n",
    "mean = accuracy.mean()\n",
    "var = math.pow(accuracy.std(),2)"
   ]
  },
  {
   "cell_type": "code",
   "execution_count": 24,
   "metadata": {},
   "outputs": [
    {
     "name": "stdout",
     "output_type": "stream",
     "text": [
      "Confusion Matrix := \n",
      " [[57  0  0]\n",
      " [ 3 14  1]\n",
      " [ 0  2 23]]\n",
      "\n",
      "\n",
      "mean accuracy = 0.90486\n",
      "variance = 0.00252\n"
     ]
    }
   ],
   "source": [
    "print(f'Confusion Matrix := \\n {cm}')\n",
    "print('\\n')\n",
    "print(f'mean accuracy = {np.around(mean,5)}')\n",
    "print(f'variance = {np.around(var,5)}')"
   ]
  },
  {
   "cell_type": "code",
   "execution_count": 14,
   "metadata": {},
   "outputs": [
    {
     "name": "stderr",
     "output_type": "stream",
     "text": [
      "'c' argument looks like a single numeric RGB or RGBA sequence, which should be avoided as value-mapping will have precedence in case its length matches with 'x' & 'y'.  Please use a 2-D array with a single row if you really want to specify the same RGB or RGBA value for all points.\n",
      "'c' argument looks like a single numeric RGB or RGBA sequence, which should be avoided as value-mapping will have precedence in case its length matches with 'x' & 'y'.  Please use a 2-D array with a single row if you really want to specify the same RGB or RGBA value for all points.\n",
      "'c' argument looks like a single numeric RGB or RGBA sequence, which should be avoided as value-mapping will have precedence in case its length matches with 'x' & 'y'.  Please use a 2-D array with a single row if you really want to specify the same RGB or RGBA value for all points.\n"
     ]
    },
    {
     "data": {
      "image/png": "[encoded data removed]",
      "text/plain": [
       "<Figure size 432x288 with 1 Axes>"
      ]
     },
     "metadata": {
      "needs_background": "light"
     },
     "output_type": "display_data"
    }
   ],
   "source": [
    "#visualising training data\n",
    "from matplotlib.colors import ListedColormap\n",
    "X_set, y_set = X_train, y_train\n",
    "X1, X2 = np.meshgrid(np.arange(start = X_set[:, 0].min() - 1, stop = X_set[:, 0].max() + 1, step = 0.01),\n",
    "                     np.arange(start = X_set[:, 1].min() - 1, stop = X_set[:, 1].max() + 1, step = 0.01))\n",
    "plt.contourf(X1, X2, classifier.predict(np.array([X1.ravel(), X2.ravel()]).T).reshape(X1.shape),\n",
    "             alpha = 0.75, cmap = ListedColormap(('red', 'green', 'blue')))\n",
    "plt.xlim(X1.min(), X1.max())\n",
    "plt.ylim(X2.min(), X2.max())\n",
    "y_set = y_set.reshape(400,)\n",
    "for i, j in enumerate(np.unique(y_set)):\n",
    "    plt.scatter(X_set[y_set == j, 0], X_set[y_set == j, 1],\n",
    "                c = ListedColormap(('red', 'green', 'blue'))(i), label = j)\n",
    "plt.title('Logistic Regression (Test set)')\n",
    "plt.xlabel('LD1')\n",
    "plt.ylabel('LD2')\n",
    "plt.legend()\n",
    "plt.show()"
   ]
  },
  {
   "cell_type": "code",
   "execution_count": 13,
   "metadata": {},
   "outputs": [
    {
     "name": "stderr",
     "output_type": "stream",
     "text": [
      "'c' argument looks like a single numeric RGB or RGBA sequence, which should be avoided as value-mapping will have precedence in case its length matches with 'x' & 'y'.  Please use a 2-D array with a single row if you really want to specify the same RGB or RGBA value for all points.\n",
      "'c' argument looks like a single numeric RGB or RGBA sequence, which should be avoided as value-mapping will have precedence in case its length matches with 'x' & 'y'.  Please use a 2-D array with a single row if you really want to specify the same RGB or RGBA value for all points.\n",
      "'c' argument looks like a single numeric RGB or RGBA sequence, which should be avoided as value-mapping will have precedence in case its length matches with 'x' & 'y'.  Please use a 2-D array with a single row if you really want to specify the same RGB or RGBA value for all points.\n"
     ]
    },
    {
     "data": {
      "image/png": "[encoded data removed]",
      "text/plain": [
       "<Figure size 432x288 with 1 Axes>"
      ]
     },
     "metadata": {
      "needs_background": "light"
     },
     "output_type": "display_data"
    }
   ],
   "source": [
    "#visualisation of test data\n",
    "from matplotlib.colors import ListedColormap\n",
    "X_set, y_set = X_test, y_test\n",
    "X1, X2 = np.meshgrid(np.arange(start = X_set[:, 0].min() - 1, stop = X_set[:, 0].max() + 1, step = 0.01),\n",
    "                     np.arange(start = X_set[:, 1].min() - 1, stop = X_set[:, 1].max() + 1, step = 0.01))\n",
    "plt.contourf(X1, X2, classifier.predict(np.array([X1.ravel(), X2.ravel()]).T).reshape(X1.shape),\n",
    "             alpha = 0.75, cmap = ListedColormap(('red', 'green', 'blue')))\n",
    "plt.xlim(X1.min(), X1.max())\n",
    "plt.ylim(X2.min(), X2.max())\n",
    "y_set = y_set.reshape(100,)\n",
    "for i, j in enumerate(np.unique(y_set)):\n",
    "    plt.scatter(X_set[y_set == j, 0], X_set[y_set == j, 1],\n",
    "                c = ListedColormap(('red', 'green', 'blue'))(i), label = j)\n",
    "plt.title('Logistic Regression (Test set)')\n",
    "plt.xlabel('LD1')\n",
    "plt.ylabel('LD2')\n",
    "plt.legend()\n",
    "plt.show()"
   ]
  },
  {
   "cell_type": "code",
   "execution_count": 21,
   "metadata": {},
   "outputs": [
    {
     "name": "stderr",
     "output_type": "stream",
     "text": [
      "C:\\Users\\Kamran\\Anaconda3\\lib\\site-packages\\sklearn\\preprocessing\\_encoders.py:415: FutureWarning: The handling of integer data will change in version 0.22. Currently, the categories are determined based on the range [0, max(values)], while in the future they will be determined based on the unique values.\n",
      "If you want the future behaviour and silence this warning, you can specify \"categories='auto'\".\n",
      "In case you used a LabelEncoder before this OneHotEncoder to convert the categories to integers, then you can now use the OneHotEncoder directly.\n",
      "  warnings.warn(msg, FutureWarning)\n"
     ]
    }
   ],
   "source": [
    "\n",
    "    \n",
    "\"\"\"\n",
    "If we dont need visualisation than in that case Decession Tree is most accurate one\n",
    "\"\"\"\n",
    "\n",
    "import pandas as pd\n",
    "import numpy as np\n",
    "import matplotlib.pyplot as plt\n",
    "import math\n",
    "\n",
    "\n",
    "# Importing the dataset\n",
    "dataset = pd.read_csv('C:\\\\Users\\\\Kamran\\\\Downloads\\\\loandata\\\\Loan.csv')\n",
    "dataset = dataset.drop(columns = ['effective_date','due_date','paid_off_time'],axis = 1)\n",
    "#converting nan to 0\n",
    "dataset.loc[:,'past_due_days'] = dataset.loc[:,'past_due_days'].replace(np.nan,0)\n",
    "#dealing with categorical data\n",
    "dataset['Gender']= pd.get_dummies(dataset['Gender'])\n",
    "#selecting independent variable\n",
    "X = dataset.loc[:, ['Principal','terms','past_due_days','age','education','Gender']].values\n",
    "#selecting dependent variable\n",
    "y = dataset.loc[:,['loan_status']]\n",
    "#converting string into integer(again categorical data)\n",
    "y = y.replace(to_replace ='PAIDOFF' ,value = 1)\n",
    "y = y.replace(to_replace =['COLLECTION_PAIDOFF'] ,value = 2)\n",
    "y = y.replace(to_replace =['COLLECTION'] ,value = 3)\n",
    "\n",
    "#dealing with categories of education features\n",
    "from sklearn.preprocessing import LabelEncoder,OneHotEncoder\n",
    "labelencoder_X = LabelEncoder()\n",
    "X[:, 4] = labelencoder_X.fit_transform(X[:, 4])\n",
    "onehotencoder = OneHotEncoder(categorical_features = [4])\n",
    "X = onehotencoder.fit_transform(X).toarray()\n",
    "\n",
    "#avoiding dummy variable trap\n",
    "X = X[:,1:]\n",
    "#converting DataFrame into object\n",
    "y = y.values\n",
    "\n",
    "#spliting data into training and test set\n",
    "from sklearn.model_selection import train_test_split\n",
    "X_train, X_test, y_train, y_test = train_test_split(X, y, test_size = 0.2, random_state = 0)\n",
    "\n",
    "from sklearn.preprocessing import StandardScaler\n",
    "sc = StandardScaler()\n",
    "X_train[:,3:7] = sc.fit_transform(X_train[:,3:7])\n",
    "X_test[:,3:7] = sc.transform(X_test[:,3:7])\n",
    "\n",
    "\n",
    "from sklearn.tree import DecisionTreeClassifier\n",
    "classifier = DecisionTreeClassifier(random_state= 0)\n",
    "classifier.fit(X_train, y_train)\n",
    "\n",
    "y_pred = classifier.predict(X_test)\n",
    "\n",
    "# Making the Confusion Matrix\n",
    "from sklearn.metrics import confusion_matrix\n",
    "cmDT = confusion_matrix(y_test, y_pred)\n",
    "\n",
    "\n",
    "#this step is to find out bais and variance trade off of model\n",
    "from sklearn.model_selection import cross_val_score\n",
    "accuracy = cross_val_score(estimator = classifier,X = X_train, y = y_train,cv = 10)\n",
    "meanDT = accuracy.mean()\n",
    "varDT = math.pow(accuracy.std(),2)\n",
    "\n"
   ]
  },
  {
   "cell_type": "code",
   "execution_count": 22,
   "metadata": {},
   "outputs": [
    {
     "name": "stdout",
     "output_type": "stream",
     "text": [
      "Confusion Matrix := \n",
      " [[57  0  0]\n",
      " [ 0 17  1]\n",
      " [ 0  0 25]]\n",
      "\n",
      "\n",
      "mean accuracy = 0.97968\n",
      "variance = 0.00049\n"
     ]
    }
   ],
   "source": [
    "print(f'Confusion Matrix := \\n {cmDT}')\n",
    "print('\\n')\n",
    "print(f'mean accuracy = {np.around(meanDT,5)}')\n",
    "print(f'variance = {np.around(varDT,5)}')"
   ]
  },
  {
   "cell_type": "code",
   "execution_count": null,
   "metadata": {},
   "outputs": [],
   "source": []
  },
  {
   "cell_type": "code",
   "execution_count": null,
   "metadata": {},
   "outputs": [],
   "source": [
    "\n"
   ]
  },
  {
   "cell_type": "code",
   "execution_count": null,
   "metadata": {},
   "outputs": [],
   "source": []
  },
  {
   "cell_type": "code",
   "execution_count": null,
   "metadata": {},
   "outputs": [],
   "source": []
  },
  {
   "cell_type": "code",
   "execution_count": null,
   "metadata": {},
   "outputs": [],
   "source": []
  }
 ],
 "metadata": {
  "kernelspec": {
   "display_name": "Python 3",
   "language": "python",
   "name": "python3"
  },
  "language_info": {
   "codemirror_mode": {
    "name": "ipython",
    "version": 3
   },
   "file_extension": ".py",
   "mimetype": "text/x-python",
   "name": "python",
   "nbconvert_exporter": "python",
   "pygments_lexer": "ipython3",
   "version": "3.7.3"
  }
 },
 "nbformat": 4,
 "nbformat_minor": 2
}
